{
  "nbformat": 4,
  "nbformat_minor": 0,
  "metadata": {
    "colab": {
      "name": "Week12.ipynb",
      "provenance": [],
      "authorship_tag": "ABX9TyMXVModvS8nApR1TQGWqtuL",
      "include_colab_link": true
    },
    "kernelspec": {
      "name": "python3",
      "display_name": "Python 3"
    }
  },
  "cells": [
    {
      "cell_type": "markdown",
      "metadata": {
        "id": "view-in-github",
        "colab_type": "text"
      },
      "source": [
        "<a href=\"https://colab.research.google.com/github/A107260029/Computational-Thinking/blob/master/Week12.ipynb\" target=\"_parent\"><img src=\"https://colab.research.google.com/assets/colab-badge.svg\" alt=\"Open In Colab\"/></a>"
      ]
    },
    {
      "cell_type": "code",
      "metadata": {
        "colab": {
          "base_uri": "https://localhost:8080/"
        },
        "id": "WIbW9wyIn3Fy",
        "outputId": "a2e034c4-90ec-43af-9c02-94d1f6f50f2b"
      },
      "source": [
        "hello1 = 'Hello World'\n",
        "hello2 = 'Hello Python'\n",
        "hello3 = 'Shaquile O`Neil'\n",
        "\n",
        "s1 = \"123\"\n",
        "s2 = \"456\"\n",
        "s3 = s1 + s2\n",
        "print(s3)\n",
        "s4 = s1*2\n",
        "print(s4)\n",
        "\n",
        "\n",
        "\n"
      ],
      "execution_count": 2,
      "outputs": [
        {
          "output_type": "stream",
          "text": [
            "123456\n",
            "123123\n"
          ],
          "name": "stdout"
        }
      ]
    },
    {
      "cell_type": "code",
      "metadata": {
        "colab": {
          "base_uri": "https://localhost:8080/",
          "height": 35
        },
        "id": "pwBX5jZCtMeC",
        "outputId": "9cba68fc-f0e3-4117-c46b-3233c13213b2"
      },
      "source": [
        "s1 = 'An apple a day.'\n",
        "s1.capitalize()\n",
        "s1.title()\n",
        "s1.swapcase()\n",
        "s1.upper()\n",
        "s1.lower()"
      ],
      "execution_count": 11,
      "outputs": [
        {
          "output_type": "execute_result",
          "data": {
            "application/vnd.google.colaboratory.intrinsic+json": {
              "type": "string"
            },
            "text/plain": [
              "'an apple a day.'"
            ]
          },
          "metadata": {
            "tags": []
          },
          "execution_count": 11
        }
      ]
    },
    {
      "cell_type": "code",
      "metadata": {
        "id": "e5d5PAyItQpf"
      },
      "source": [
        "numberlist = [1,2,3,4,5]\n",
        "charlist = [\"1\",\"2\",\"3\",\"4\",\"5\"]\n",
        "mixlist = [1,\"2\",3,\"4\",5]\n"
      ],
      "execution_count": 12,
      "outputs": []
    },
    {
      "cell_type": "code",
      "metadata": {
        "colab": {
          "base_uri": "https://localhost:8080/"
        },
        "id": "5vEL8VbZvG6C",
        "outputId": "745bcd65-8d99-4543-96dd-ba18729cdc65"
      },
      "source": [
        "word = \"Kevin\"\n",
        "print(word)\n",
        "\n",
        "list1 = list(word)\n",
        "print(word)\n",
        "\n"
      ],
      "execution_count": 13,
      "outputs": [
        {
          "output_type": "stream",
          "text": [
            "Kevin\n"
          ],
          "name": "stdout"
        }
      ]
    },
    {
      "cell_type": "markdown",
      "metadata": {
        "id": "tBlmN-fDyAVj"
      },
      "source": [
        "# 隨堂練習1"
      ]
    },
    {
      "cell_type": "code",
      "metadata": {
        "colab": {
          "base_uri": "https://localhost:8080/"
        },
        "id": "C6ECnx2HweEl",
        "outputId": "8511a9e8-a69b-459e-c833-22f53100ddfd"
      },
      "source": [
        "favorite_list =[13,\"coke\",\"basketball\",\"red\",\"wine\"]\n",
        "print(favorite_list)"
      ],
      "execution_count": 15,
      "outputs": [
        {
          "output_type": "stream",
          "text": [
            "[13, 'coke', 'basketball', 'red', 'wine']\n"
          ],
          "name": "stdout"
        }
      ]
    },
    {
      "cell_type": "markdown",
      "metadata": {
        "id": "a-L7K2Wi2Aa9"
      },
      "source": [
        "# 隨堂練習2"
      ]
    },
    {
      "cell_type": "code",
      "metadata": {
        "colab": {
          "base_uri": "https://localhost:8080/"
        },
        "id": "n-MaqHkO2HUk",
        "outputId": "d38d681f-64d3-4f0b-b2bd-46bd3ae358d5"
      },
      "source": [
        "season = \"2019-2020\"\n",
        "team = \"LA Lakers\"\n",
        "coach = \"Phil Jackson\"\n",
        "records = [52,19]\n",
        "starting_lineup =[\"LeBron James\",\"Anthony Davis\",\"Alex Caruso\",\"Kyle Kuzma\",\"Markieff Morris\"]\n",
        "won_championship= True\n",
        "\n",
        "best_LA_Lakers = list ((season,team,coach,records,starting_lineup,won_championship))\n",
        "print(best_LA_Lakers)\n",
        "print(type(best_LA_Lakers))"
      ],
      "execution_count": 24,
      "outputs": [
        {
          "output_type": "stream",
          "text": [
            "['2019-2020', 'LA Lakers', 'Phil Jackson', [52, 19], ['LeBron James', 'Anthony Davis', 'Alex Caruso', 'Kyle Kuzma', 'Markieff Morris'], True]\n",
            "<class 'list'>\n"
          ],
          "name": "stdout"
        }
      ]
    }
  ]
}