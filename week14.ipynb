{
  "nbformat": 4,
  "nbformat_minor": 0,
  "metadata": {
    "colab": {
      "name": "week14.ipynb",
      "provenance": [],
      "collapsed_sections": [],
      "authorship_tag": "ABX9TyMWMoXiGDd9FmiZyIzBttVN",
      "include_colab_link": true
    },
    "kernelspec": {
      "name": "python3",
      "display_name": "Python 3"
    }
  },
  "cells": [
    {
      "cell_type": "markdown",
      "metadata": {
        "id": "view-in-github",
        "colab_type": "text"
      },
      "source": [
        "<a href=\"https://colab.research.google.com/github/A107260029/Computational-Thinking/blob/master/week14.ipynb\" target=\"_parent\"><img src=\"https://colab.research.google.com/assets/colab-badge.svg\" alt=\"Open In Colab\"/></a>"
      ]
    },
    {
      "cell_type": "markdown",
      "metadata": {
        "id": "VJUPDpTzvdkP"
      },
      "source": [
        "隨堂練習1"
      ]
    },
    {
      "cell_type": "code",
      "metadata": {
        "colab": {
          "base_uri": "https://localhost:8080/"
        },
        "id": "JKFHxrQ0va3Z",
        "outputId": "23faa13f-dd77-479d-f9d7-e6c1aca64691"
      },
      "source": [
        "\r\n",
        ">>> sum = 0 \r\n",
        ">>> for i in range(2, 10, 2): \r\n",
        ">>>     sum = sum + i \r\n",
        ">>>     print('i為', i, '時,累加結果為', sum)"
      ],
      "execution_count": null,
      "outputs": [
        {
          "output_type": "stream",
          "text": [
            "i為 2 時,累加結果為 2\n",
            "i為 4 時,累加結果為 6\n",
            "i為 6 時,累加結果為 12\n",
            "i為 8 時,累加結果為 20\n"
          ],
          "name": "stdout"
        }
      ]
    },
    {
      "cell_type": "markdown",
      "metadata": {
        "id": "1HV6aWKb6SH4"
      },
      "source": [
        "作業:求數字平方和\r\n",
        "請使用者輸入一個正整數n,求該正整數的平方和"
      ]
    },
    {
      "cell_type": "code",
      "metadata": {
        "colab": {
          "base_uri": "https://localhost:8080/"
        },
        "id": "iEXow8gN6T6P",
        "outputId": "8ec18dee-e851-4777-b0f0-6d54b15b4d50"
      },
      "source": [
        ">>> sum = 0 \r\n",
        ">>> for n in range(0, 5, 1): \r\n",
        ">>>     sum = sum + n**2 \r\n",
        ">>>     print('n為', n, '時,累加結果為', sum)"
      ],
      "execution_count": null,
      "outputs": [
        {
          "output_type": "stream",
          "text": [
            "n為 0 時,累加結果為 0\n",
            "n為 1 時,累加結果為 1\n",
            "n為 2 時,累加結果為 5\n",
            "n為 3 時,累加結果為 14\n",
            "n為 4 時,累加結果為 30\n"
          ],
          "name": "stdout"
        }
      ]
    },
    {
      "cell_type": "markdown",
      "metadata": {
        "id": "Ila1LHBsB2ND"
      },
      "source": [
        "作業:for迴圈應用\r\n",
        "輸出一個簡單的自我介紹,並告訴大家自己最喜歡的甜點是什麼。請使用下面串列寫一個\r\n",
        "for迴圈,請輸出人名和他們最喜歡的甜點(可使用f字串輸出訊息)。"
      ]
    },
    {
      "cell_type": "code",
      "metadata": {
        "id": "SMQNKek3B2uY",
        "colab": {
          "base_uri": "https://localhost:8080/"
        },
        "outputId": "50a49ec4-df50-4863-e8d7-82e310a8ca00"
      },
      "source": [
        " people = [\"kevin\"]\r\n",
        " desserts = [\"pie\"]\r\n",
        " \r\n",
        " for index in range(len(people)):\r\n",
        "   name = people\r\n",
        "   dessert = desserts\r\n",
        "   print(f\"Hi! My name is {name}, My favorite dessert is {desserts}\")"
      ],
      "execution_count": 7,
      "outputs": [
        {
          "output_type": "stream",
          "text": [
            "Hi! My name is ['kevin'], My favorite dessert is ['pie']\n"
          ],
          "name": "stdout"
        }
      ]
    },
    {
      "cell_type": "markdown",
      "metadata": {
        "id": "bQbqt8VoEae3"
      },
      "source": [
        "隨堂練習2"
      ]
    },
    {
      "cell_type": "code",
      "metadata": {
        "colab": {
          "base_uri": "https://localhost:8080/"
        },
        "id": "YD1584ApEc6m",
        "outputId": "a208cca6-94b6-43c6-e9f1-9793fd680126"
      },
      "source": [
        ">>> sum = 0 \r\n",
        ">>> for i in range(3, 13, 3): \r\n",
        ">>>     sum = sum + i \r\n",
        ">>>     print('i為', i, '時,累加結果為', sum)"
      ],
      "execution_count": 8,
      "outputs": [
        {
          "output_type": "stream",
          "text": [
            "i為 3 時,累加結果為 3\n",
            "i為 6 時,累加結果為 9\n",
            "i為 9 時,累加結果為 18\n",
            "i為 12 時,累加結果為 30\n"
          ],
          "name": "stdout"
        }
      ]
    }
  ]
}