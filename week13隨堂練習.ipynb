{
  "nbformat": 4,
  "nbformat_minor": 0,
  "metadata": {
    "colab": {
      "name": "week13隨堂練習.ipynb",
      "provenance": [],
      "collapsed_sections": [],
      "authorship_tag": "ABX9TyPu1VC+3DZY91efkTWbJqcp",
      "include_colab_link": true
    },
    "kernelspec": {
      "display_name": "Python 3",
      "name": "python3"
    }
  },
  "cells": [
    {
      "cell_type": "markdown",
      "metadata": {
        "id": "view-in-github",
        "colab_type": "text"
      },
      "source": [
        "<a href=\"https://colab.research.google.com/github/A107260029/Computational-Thinking/blob/master/week13%E9%9A%A8%E5%A0%82%E7%B7%B4%E7%BF%92.ipynb\" target=\"_parent\"><img src=\"https://colab.research.google.com/assets/colab-badge.svg\" alt=\"Open In Colab\"/></a>"
      ]
    },
    {
      "cell_type": "code",
      "metadata": {
        "colab": {
          "base_uri": "https://localhost:8080/"
        },
        "id": "0gCeEmCWuaSM",
        "outputId": "e1e2d9d3-5cd7-4464-d4dd-c3dc7a205e10"
      },
      "source": [
        "#[0, 1, 2, 3, 4, 5, 6, 7, 8, 9]\n",
        ">>> a = range(10) # range(0,10,1)\n",
        ">>> print(a)\n",
        "range(0, 10)\n",
        ">>> print(a[0], a[1], a[2], a[3], a[4], a[5], a[6], a[7], a[8], a[9])"
      ],
      "execution_count": null,
      "outputs": [
        {
          "output_type": "stream",
          "text": [
            "range(0, 10)\n",
            "0 1 2 3 4 5 6 7 8 9\n"
          ],
          "name": "stdout"
        }
      ]
    },
    {
      "cell_type": "code",
      "metadata": {
        "colab": {
          "base_uri": "https://localhost:8080/"
        },
        "id": "457BuKwG-Uaf",
        "outputId": "4f11cade-2168-480a-8a7b-15b868e47e1c"
      },
      "source": [
        "# [0,2,4,6,8]\n",
        ">>> b = range(0,10,2) \n",
        ">>> print(b)\n",
        "\n",
        ">>> print(b[0], b[1], b[2], b[3], b[4])"
      ],
      "execution_count": 20,
      "outputs": [
        {
          "output_type": "stream",
          "text": [
            "range(0, 10, 2)\n",
            "0 2 4 6 8\n"
          ],
          "name": "stdout"
        }
      ]
    },
    {
      "cell_type": "code",
      "metadata": {
        "colab": {
          "base_uri": "https://localhost:8080/"
        },
        "id": "exsZ-Tl8zDp5",
        "outputId": "41eb90da-ff78-44e8-e639-3ed9d6e16db6"
      },
      "source": [
        "#[5,7,9]\r\n",
        ">>> c = range(5, 11, 2)\r\n",
        ">>> print(c[0], c[1], c[2])"
      ],
      "execution_count": 21,
      "outputs": [
        {
          "output_type": "stream",
          "text": [
            "5 7 9\n"
          ],
          "name": "stdout"
        }
      ]
    },
    {
      "cell_type": "code",
      "metadata": {
        "colab": {
          "base_uri": "https://localhost:8080/"
        },
        "id": "D673J1Mf1Jfc",
        "outputId": "ed562d21-0eca-4a2b-b33e-4fa2a1dd47df"
      },
      "source": [
        "# [0, -1, -2, -3, -4, -5, -6, -7, -8, -9]\r\n",
        ">>> d = range(0, -10, -1)\r\n",
        ">>> print(d[0], d[1], d[2], d[3] , d[4] ,d[5], d[6], d[7], d[8],d[9])"
      ],
      "execution_count": 22,
      "outputs": [
        {
          "output_type": "stream",
          "text": [
            "0 -1 -2 -3 -4 -5 -6 -7 -8 -9\n"
          ],
          "name": "stdout"
        }
      ]
    },
    {
      "cell_type": "code",
      "metadata": {
        "colab": {
          "base_uri": "https://localhost:8080/"
        },
        "id": "KFe8A2U09-pV",
        "outputId": "3673a44f-1505-4424-8b20-4b493b0fafd1"
      },
      "source": [
        "print(d[0])\r\n",
        "print(d[1])\r\n",
        "print(d[2])\r\n",
        "print(d[3])\r\n",
        "print(d[4])\r\n",
        "print(d[5])\r\n",
        "print(d[6])\r\n",
        "print(d[7])\r\n",
        "print(d[8])\r\n",
        "print(d[9])\r\n"
      ],
      "execution_count": 26,
      "outputs": [
        {
          "output_type": "stream",
          "text": [
            "0\n",
            "-1\n",
            "-2\n",
            "-3\n",
            "-4\n",
            "-5\n",
            "-6\n",
            "-7\n",
            "-8\n",
            "-9\n"
          ],
          "name": "stdout"
        }
      ]
    },
    {
      "cell_type": "code",
      "metadata": {
        "colab": {
          "base_uri": "https://localhost:8080/"
        },
        "id": "PecsUlcV_DIY",
        "outputId": "32e7d65b-23d0-4c1f-f9fb-c2fbed386e51"
      },
      "source": [
        "project_title=\"簡易計算機\"\r\n",
        "name_list=\"林龍億,王心如,黃奕昕,吳泓毅,呂欣恩\"\r\n",
        "group_leader=\"呂欣恩\"\r\n",
        "number_list=['A109260102','A109260076','A105260027','A107260029','A106070272']\r\n",
        "duty_list=['文書整理','主題構思','主題構思','程式設計','程式設計']\r\n",
        "load_list=['20%','20%','20%','20%','20%']\r\n",
        "print(group_leader,number_list[4],duty_list[4],load_list[4])"
      ],
      "execution_count": 27,
      "outputs": [
        {
          "output_type": "stream",
          "text": [
            "呂欣恩 A106070272 程式設計 20%\n"
          ],
          "name": "stdout"
        }
      ]
    }
  ]
}