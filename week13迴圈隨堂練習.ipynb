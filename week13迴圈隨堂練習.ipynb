{
  "nbformat": 4,
  "nbformat_minor": 0,
  "metadata": {
    "colab": {
      "name": "week13迴圈隨堂練習.ipynb",
      "provenance": [],
      "collapsed_sections": [],
      "authorship_tag": "ABX9TyNRJy6GH/24N05UVDqW4A1o",
      "include_colab_link": true
    },
    "kernelspec": {
      "name": "python3",
      "display_name": "Python 3"
    }
  },
  "cells": [
    {
      "cell_type": "markdown",
      "metadata": {
        "id": "view-in-github",
        "colab_type": "text"
      },
      "source": [
        "<a href=\"https://colab.research.google.com/github/A107260029/Computational-Thinking/blob/master/week13%E8%BF%B4%E5%9C%88%E9%9A%A8%E5%A0%82%E7%B7%B4%E7%BF%92.ipynb\" target=\"_parent\"><img src=\"https://colab.research.google.com/assets/colab-badge.svg\" alt=\"Open In Colab\"/></a>"
      ]
    },
    {
      "cell_type": "code",
      "metadata": {
        "colab": {
          "base_uri": "https://localhost:8080/"
        },
        "id": "kV4KDaOg3iL3",
        "outputId": "ae7ff2ee-e01a-4dda-f67e-be672eddaa4b"
      },
      "source": [
        "for i in range(0,5,1):\n",
        "   print(\"Hello\")"
      ],
      "execution_count": null,
      "outputs": [
        {
          "output_type": "stream",
          "text": [
            "Hello\n",
            "Hello\n",
            "Hello\n",
            "Hello\n",
            "Hello\n"
          ],
          "name": "stdout"
        }
      ]
    },
    {
      "cell_type": "code",
      "metadata": {
        "colab": {
          "base_uri": "https://localhost:8080/"
        },
        "id": "aprmhdf_4DuY",
        "outputId": "04fc6081-cafd-4262-ba8c-0b860db7456e"
      },
      "source": [
        "#[0,1,2,3,4,5]\n",
        "for i in range(0,5,1):\n",
        "     print(i)"
      ],
      "execution_count": null,
      "outputs": [
        {
          "output_type": "stream",
          "text": [
            "0\n",
            "1\n",
            "2\n",
            "3\n",
            "4\n"
          ],
          "name": "stdout"
        }
      ]
    },
    {
      "cell_type": "code",
      "metadata": {
        "colab": {
          "base_uri": "https://localhost:8080/"
        },
        "id": "Eq8AO06-5NWT",
        "outputId": "b519b672-c5db-45f6-a351-c793c56f3674"
      },
      "source": [
        "#[2,3,4,5]\n",
        "for i in range(2,6,1):\n",
        "     print(i)"
      ],
      "execution_count": null,
      "outputs": [
        {
          "output_type": "stream",
          "text": [
            "2\n",
            "3\n",
            "4\n",
            "5\n"
          ],
          "name": "stdout"
        }
      ]
    },
    {
      "cell_type": "code",
      "metadata": {
        "colab": {
          "base_uri": "https://localhost:8080/"
        },
        "id": "GDOanPua5UBm",
        "outputId": "d6285648-02fa-4006-f030-0d0afdb4191b"
      },
      "source": [
        "#[2,4,6,8]\n",
        "for i in range(2,10,2):\n",
        "     print(i)"
      ],
      "execution_count": null,
      "outputs": [
        {
          "output_type": "stream",
          "text": [
            "2\n",
            "4\n",
            "6\n",
            "8\n"
          ],
          "name": "stdout"
        }
      ]
    },
    {
      "cell_type": "code",
      "metadata": {
        "colab": {
          "base_uri": "https://localhost:8080/"
        },
        "id": "2YrXqPZh5bPF",
        "outputId": "bec22a65-a61c-412d-b432-a8d4e20fd5b4"
      },
      "source": [
        "#[100,97,94,91]\n",
        "for i in range(100, 90, -3):\n",
        "     print(i)"
      ],
      "execution_count": null,
      "outputs": [
        {
          "output_type": "stream",
          "text": [
            "100\n",
            "97\n",
            "94\n",
            "91\n"
          ],
          "name": "stdout"
        }
      ]
    },
    {
      "cell_type": "code",
      "metadata": {
        "colab": {
          "base_uri": "https://localhost:8080/"
        },
        "id": "XTqThVQM7LJy",
        "outputId": "0ae66fdf-a9a3-4da0-c59e-83d01a05d5a3"
      },
      "source": [
        "sum = 0 #\n",
        "for i in range(2, 11, 2): \n",
        "    sum = sum + i \n",
        "print(\"Total is\", sum)"
      ],
      "execution_count": null,
      "outputs": [
        {
          "output_type": "stream",
          "text": [
            "Total is 30\n"
          ],
          "name": "stdout"
        }
      ]
    },
    {
      "cell_type": "code",
      "metadata": {
        "colab": {
          "base_uri": "https://localhost:8080/"
        },
        "id": "U72RkqN69jDl",
        "outputId": "cd136817-581e-4dd4-dc2a-34f7c36d2c78"
      },
      "source": [
        "sum = 0\n",
        "for i in range(3, 13, 3):\n",
        "     sum = sum + i \n",
        "print (\"Total is\", sum)    "
      ],
      "execution_count": null,
      "outputs": [
        {
          "output_type": "stream",
          "text": [
            "Total is 30\n"
          ],
          "name": "stdout"
        }
      ]
    }
  ]
}